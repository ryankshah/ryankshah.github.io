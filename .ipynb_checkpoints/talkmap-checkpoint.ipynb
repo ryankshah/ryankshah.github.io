{
 "cells": [
  {
   "cell_type": "markdown",
   "metadata": {},
   "source": [
    "# Leaflet cluster map of talk locations\n",
    "\n",
    "Run this from the _talks/ directory, which contains .md files of all your talks. This scrapes the location YAML field from each .md file, geolocates it with geopy/Nominatim, and uses the getorg library to output data, HTML, and Javascript for a standalone cluster map."
   ]
  },
  {
   "cell_type": "code",
   "execution_count": 4,
   "metadata": {},
   "outputs": [
    {
     "name": "stdout",
     "output_type": "stream",
     "text": [
      "Requirement already satisfied: getorg in c:\\python38\\lib\\site-packages (0.3.1)\n",
      "Requirement already satisfied: geopy in c:\\python38\\lib\\site-packages (from getorg) (2.3.0)\n",
      "Requirement already satisfied: retrying in c:\\python38\\lib\\site-packages (from getorg) (1.3.4)\n",
      "Requirement already satisfied: pygithub in c:\\python38\\lib\\site-packages (from getorg) (1.58.1)\n",
      "Requirement already satisfied: geographiclib<3,>=1.52 in c:\\python38\\lib\\site-packages (from geopy->getorg) (2.0)\n",
      "Requirement already satisfied: deprecated in c:\\python38\\lib\\site-packages (from pygithub->getorg) (1.2.13)\n",
      "Requirement already satisfied: pyjwt[crypto]>=2.4.0 in c:\\python38\\lib\\site-packages (from pygithub->getorg) (2.6.0)\n",
      "Requirement already satisfied: pynacl>=1.4.0 in c:\\python38\\lib\\site-packages (from pygithub->getorg) (1.5.0)\n",
      "Requirement already satisfied: requests>=2.14.0 in c:\\python38\\lib\\site-packages (from pygithub->getorg) (2.28.2)\n",
      "Requirement already satisfied: six>=1.7.0 in c:\\python38\\lib\\site-packages (from retrying->getorg) (1.16.0)\n",
      "Requirement already satisfied: cryptography>=3.4.0 in c:\\python38\\lib\\site-packages (from pyjwt[crypto]>=2.4.0->pygithub->getorg) (39.0.0)\n",
      "Requirement already satisfied: cffi>=1.4.1 in c:\\python38\\lib\\site-packages (from pynacl>=1.4.0->pygithub->getorg) (1.15.1)\n",
      "Requirement already satisfied: idna<4,>=2.5 in c:\\python38\\lib\\site-packages (from requests>=2.14.0->pygithub->getorg) (3.4)\n",
      "Requirement already satisfied: urllib3<1.27,>=1.21.1 in c:\\python38\\lib\\site-packages (from requests>=2.14.0->pygithub->getorg) (1.26.14)\n",
      "Requirement already satisfied: charset-normalizer<4,>=2 in c:\\python38\\lib\\site-packages (from requests>=2.14.0->pygithub->getorg) (3.0.1)\n",
      "Requirement already satisfied: certifi>=2017.4.17 in c:\\python38\\lib\\site-packages (from requests>=2.14.0->pygithub->getorg) (2022.12.7)\n",
      "Requirement already satisfied: wrapt<2,>=1.10 in c:\\python38\\lib\\site-packages (from deprecated->pygithub->getorg) (1.14.1)\n",
      "Requirement already satisfied: pycparser in c:\\python38\\lib\\site-packages (from cffi>=1.4.1->pynacl>=1.4.0->pygithub->getorg) (2.21)\n"
     ]
    },
    {
     "name": "stderr",
     "output_type": "stream",
     "text": [
      "\n",
      "[notice] A new release of pip is available: 23.0.1 -> 23.1.2\n",
      "[notice] To update, run: python.exe -m pip install --upgrade pip\n"
     ]
    },
    {
     "name": "stdout",
     "output_type": "stream",
     "text": [
      "Collecting ipyleaflet\n",
      "  Downloading ipyleaflet-0.17.2-py3-none-any.whl (3.7 MB)\n",
      "     ---------------------------------------- 0.0/3.7 MB ? eta -:--:--\n",
      "     --- ------------------------------------ 0.4/3.7 MB 7.6 MB/s eta 0:00:01\n",
      "     ---------- ----------------------------- 1.0/3.7 MB 10.1 MB/s eta 0:00:01\n",
      "     --------------- ------------------------ 1.4/3.7 MB 10.2 MB/s eta 0:00:01\n",
      "     ---------------------- ----------------- 2.1/3.7 MB 11.0 MB/s eta 0:00:01\n",
      "     ---------------------------- ----------- 2.6/3.7 MB 11.1 MB/s eta 0:00:01\n",
      "     ---------------------------------- ----- 3.2/3.7 MB 11.4 MB/s eta 0:00:01\n",
      "     ---------------------------------------  3.7/3.7 MB 11.3 MB/s eta 0:00:01\n",
      "     ---------------------------------------- 3.7/3.7 MB 10.8 MB/s eta 0:00:00\n",
      "Requirement already satisfied: ipywidgets<9,>=7.6.0 in c:\\python38\\lib\\site-packages (from ipyleaflet) (8.0.6)\n",
      "Collecting traittypes<3,>=0.2.1\n",
      "  Downloading traittypes-0.2.1-py2.py3-none-any.whl (8.6 kB)\n",
      "Collecting xyzservices>=2021.8.1\n",
      "  Downloading xyzservices-2023.2.0-py3-none-any.whl (55 kB)\n",
      "     ---------------------------------------- 0.0/55.4 kB ? eta -:--:--\n",
      "     ---------------------------------------- 55.4/55.4 kB ? eta 0:00:00\n",
      "Collecting branca>=0.5.0\n",
      "  Downloading branca-0.6.0-py3-none-any.whl (24 kB)\n",
      "Requirement already satisfied: jinja2 in c:\\python38\\lib\\site-packages (from branca>=0.5.0->ipyleaflet) (3.1.2)\n",
      "Requirement already satisfied: jupyterlab-widgets~=3.0.7 in c:\\python38\\lib\\site-packages (from ipywidgets<9,>=7.6.0->ipyleaflet) (3.0.7)\n",
      "Requirement already satisfied: widgetsnbextension~=4.0.7 in c:\\python38\\lib\\site-packages (from ipywidgets<9,>=7.6.0->ipyleaflet) (4.0.7)\n",
      "Requirement already satisfied: ipython>=6.1.0 in c:\\python38\\lib\\site-packages (from ipywidgets<9,>=7.6.0->ipyleaflet) (8.12.1)\n",
      "Requirement already satisfied: ipykernel>=4.5.1 in c:\\python38\\lib\\site-packages (from ipywidgets<9,>=7.6.0->ipyleaflet) (6.22.0)\n",
      "Requirement already satisfied: traitlets>=4.3.1 in c:\\python38\\lib\\site-packages (from ipywidgets<9,>=7.6.0->ipyleaflet) (5.9.0)\n",
      "Requirement already satisfied: packaging in c:\\python38\\lib\\site-packages (from ipykernel>=4.5.1->ipywidgets<9,>=7.6.0->ipyleaflet) (23.0)\n",
      "Requirement already satisfied: psutil in c:\\python38\\lib\\site-packages (from ipykernel>=4.5.1->ipywidgets<9,>=7.6.0->ipyleaflet) (5.9.4)\n",
      "Requirement already satisfied: nest-asyncio in c:\\python38\\lib\\site-packages (from ipykernel>=4.5.1->ipywidgets<9,>=7.6.0->ipyleaflet) (1.5.6)\n",
      "Requirement already satisfied: jupyter-core!=5.0.*,>=4.12 in c:\\python38\\lib\\site-packages (from ipykernel>=4.5.1->ipywidgets<9,>=7.6.0->ipyleaflet) (5.3.0)\n",
      "Requirement already satisfied: matplotlib-inline>=0.1 in c:\\python38\\lib\\site-packages (from ipykernel>=4.5.1->ipywidgets<9,>=7.6.0->ipyleaflet) (0.1.6)\n",
      "Requirement already satisfied: jupyter-client>=6.1.12 in c:\\python38\\lib\\site-packages (from ipykernel>=4.5.1->ipywidgets<9,>=7.6.0->ipyleaflet) (8.2.0)\n",
      "Requirement already satisfied: debugpy>=1.6.5 in c:\\python38\\lib\\site-packages (from ipykernel>=4.5.1->ipywidgets<9,>=7.6.0->ipyleaflet) (1.6.7)\n",
      "Requirement already satisfied: pyzmq>=20 in c:\\python38\\lib\\site-packages (from ipykernel>=4.5.1->ipywidgets<9,>=7.6.0->ipyleaflet) (25.0.2)\n",
      "Requirement already satisfied: tornado>=6.1 in c:\\python38\\lib\\site-packages (from ipykernel>=4.5.1->ipywidgets<9,>=7.6.0->ipyleaflet) (6.3.1)\n",
      "Requirement already satisfied: comm>=0.1.1 in c:\\python38\\lib\\site-packages (from ipykernel>=4.5.1->ipywidgets<9,>=7.6.0->ipyleaflet) (0.1.3)\n",
      "Requirement already satisfied: typing-extensions in c:\\python38\\lib\\site-packages (from ipython>=6.1.0->ipywidgets<9,>=7.6.0->ipyleaflet) (4.4.0)\n",
      "Requirement already satisfied: pickleshare in c:\\python38\\lib\\site-packages (from ipython>=6.1.0->ipywidgets<9,>=7.6.0->ipyleaflet) (0.7.5)\n",
      "Requirement already satisfied: colorama in c:\\python38\\lib\\site-packages (from ipython>=6.1.0->ipywidgets<9,>=7.6.0->ipyleaflet) (0.4.6)\n",
      "Requirement already satisfied: decorator in c:\\python38\\lib\\site-packages (from ipython>=6.1.0->ipywidgets<9,>=7.6.0->ipyleaflet) (5.1.1)\n",
      "Requirement already satisfied: prompt-toolkit!=3.0.37,<3.1.0,>=3.0.30 in c:\\python38\\lib\\site-packages (from ipython>=6.1.0->ipywidgets<9,>=7.6.0->ipyleaflet) (3.0.38)\n",
      "Requirement already satisfied: backcall in c:\\python38\\lib\\site-packages (from ipython>=6.1.0->ipywidgets<9,>=7.6.0->ipyleaflet) (0.2.0)\n",
      "Requirement already satisfied: jedi>=0.16 in c:\\python38\\lib\\site-packages (from ipython>=6.1.0->ipywidgets<9,>=7.6.0->ipyleaflet) (0.18.2)\n",
      "Requirement already satisfied: stack-data in c:\\python38\\lib\\site-packages (from ipython>=6.1.0->ipywidgets<9,>=7.6.0->ipyleaflet) (0.6.2)\n",
      "Requirement already satisfied: pygments>=2.4.0 in c:\\python38\\lib\\site-packages (from ipython>=6.1.0->ipywidgets<9,>=7.6.0->ipyleaflet) (2.14.0)\n",
      "Requirement already satisfied: MarkupSafe>=2.0 in c:\\python38\\lib\\site-packages (from jinja2->branca>=0.5.0->ipyleaflet) (2.1.2)\n",
      "Requirement already satisfied: parso<0.9.0,>=0.8.0 in c:\\python38\\lib\\site-packages (from jedi>=0.16->ipython>=6.1.0->ipywidgets<9,>=7.6.0->ipyleaflet) (0.8.3)\n",
      "Requirement already satisfied: importlib-metadata>=4.8.3 in c:\\python38\\lib\\site-packages (from jupyter-client>=6.1.12->ipykernel>=4.5.1->ipywidgets<9,>=7.6.0->ipyleaflet) (6.0.0)\n",
      "Requirement already satisfied: python-dateutil>=2.8.2 in c:\\python38\\lib\\site-packages (from jupyter-client>=6.1.12->ipykernel>=4.5.1->ipywidgets<9,>=7.6.0->ipyleaflet) (2.8.2)\n",
      "Requirement already satisfied: pywin32>=300 in c:\\python38\\lib\\site-packages (from jupyter-core!=5.0.*,>=4.12->ipykernel>=4.5.1->ipywidgets<9,>=7.6.0->ipyleaflet) (305)\n",
      "Requirement already satisfied: platformdirs>=2.5 in c:\\python38\\lib\\site-packages (from jupyter-core!=5.0.*,>=4.12->ipykernel>=4.5.1->ipywidgets<9,>=7.6.0->ipyleaflet) (3.5.0)\n",
      "Requirement already satisfied: wcwidth in c:\\python38\\lib\\site-packages (from prompt-toolkit!=3.0.37,<3.1.0,>=3.0.30->ipython>=6.1.0->ipywidgets<9,>=7.6.0->ipyleaflet) (0.2.6)\n",
      "Requirement already satisfied: pure-eval in c:\\python38\\lib\\site-packages (from stack-data->ipython>=6.1.0->ipywidgets<9,>=7.6.0->ipyleaflet) (0.2.2)\n",
      "Requirement already satisfied: asttokens>=2.1.0 in c:\\python38\\lib\\site-packages (from stack-data->ipython>=6.1.0->ipywidgets<9,>=7.6.0->ipyleaflet) (2.2.1)\n",
      "Requirement already satisfied: executing>=1.2.0 in c:\\python38\\lib\\site-packages (from stack-data->ipython>=6.1.0->ipywidgets<9,>=7.6.0->ipyleaflet) (1.2.0)\n",
      "Requirement already satisfied: six in c:\\python38\\lib\\site-packages (from asttokens>=2.1.0->stack-data->ipython>=6.1.0->ipywidgets<9,>=7.6.0->ipyleaflet) (1.16.0)\n",
      "Requirement already satisfied: zipp>=0.5 in c:\\python38\\lib\\site-packages (from importlib-metadata>=4.8.3->jupyter-client>=6.1.12->ipykernel>=4.5.1->ipywidgets<9,>=7.6.0->ipyleaflet) (3.11.0)\n",
      "Installing collected packages: xyzservices, traittypes, branca, ipyleaflet\n",
      "Successfully installed branca-0.6.0 ipyleaflet-0.17.2 traittypes-0.2.1 xyzservices-2023.2.0\n"
     ]
    },
    {
     "name": "stderr",
     "output_type": "stream",
     "text": [
      "\n",
      "[notice] A new release of pip is available: 23.0.1 -> 23.1.2\n",
      "[notice] To update, run: python.exe -m pip install --upgrade pip\n"
     ]
    }
   ],
   "source": [
    "!pip install getorg --upgrade\n",
    "!pip install ipyleaflet --upgrade\n",
    "import glob\n",
    "import getorg\n",
    "from geopy import Nominatim"
   ]
  },
  {
   "cell_type": "code",
   "execution_count": 5,
   "metadata": {},
   "outputs": [],
   "source": [
    "g = glob.glob(\"*.md\")"
   ]
  },
  {
   "cell_type": "code",
   "execution_count": 6,
   "metadata": {},
   "outputs": [
    {
     "ename": "ConfigurationError",
     "evalue": "Using Nominatim with default or sample `user_agent` \"geopy/2.3.0\" is strongly discouraged, as it violates Nominatim's ToS https://operations.osmfoundation.org/policies/nominatim/ and may possibly cause 403 and 429 HTTP errors. Please specify a custom `user_agent` with `Nominatim(user_agent=\"my-application\")` or by overriding the default `user_agent`: `geopy.geocoders.options.default_user_agent = \"my-application\"`.",
     "output_type": "error",
     "traceback": [
      "\u001b[1;31m---------------------------------------------------------------------------\u001b[0m",
      "\u001b[1;31mConfigurationError\u001b[0m                        Traceback (most recent call last)",
      "Cell \u001b[1;32mIn[6], line 1\u001b[0m\n\u001b[1;32m----> 1\u001b[0m geocoder \u001b[38;5;241m=\u001b[39m \u001b[43mNominatim\u001b[49m\u001b[43m(\u001b[49m\u001b[43m)\u001b[49m\n\u001b[0;32m      2\u001b[0m location_dict \u001b[38;5;241m=\u001b[39m {}\n\u001b[0;32m      3\u001b[0m location \u001b[38;5;241m=\u001b[39m \u001b[38;5;124m\"\u001b[39m\u001b[38;5;124m\"\u001b[39m\n",
      "File \u001b[1;32mC:\\Python38\\lib\\site-packages\\geopy\\geocoders\\nominatim.py:105\u001b[0m, in \u001b[0;36mNominatim.__init__\u001b[1;34m(self, timeout, proxies, domain, scheme, user_agent, ssl_context, adapter_factory)\u001b[0m\n\u001b[0;32m    101\u001b[0m \u001b[38;5;28mself\u001b[39m\u001b[38;5;241m.\u001b[39mdomain \u001b[38;5;241m=\u001b[39m domain\u001b[38;5;241m.\u001b[39mstrip(\u001b[38;5;124m'\u001b[39m\u001b[38;5;124m/\u001b[39m\u001b[38;5;124m'\u001b[39m)\n\u001b[0;32m    103\u001b[0m \u001b[38;5;28;01mif\u001b[39;00m (\u001b[38;5;28mself\u001b[39m\u001b[38;5;241m.\u001b[39mdomain \u001b[38;5;241m==\u001b[39m _DEFAULT_NOMINATIM_DOMAIN\n\u001b[0;32m    104\u001b[0m         \u001b[38;5;129;01mand\u001b[39;00m \u001b[38;5;28mself\u001b[39m\u001b[38;5;241m.\u001b[39mheaders[\u001b[38;5;124m'\u001b[39m\u001b[38;5;124mUser-Agent\u001b[39m\u001b[38;5;124m'\u001b[39m] \u001b[38;5;129;01min\u001b[39;00m _REJECTED_USER_AGENTS):\n\u001b[1;32m--> 105\u001b[0m     \u001b[38;5;28;01mraise\u001b[39;00m ConfigurationError(\n\u001b[0;32m    106\u001b[0m         \u001b[38;5;124m'\u001b[39m\u001b[38;5;124mUsing Nominatim with default or sample `user_agent` \u001b[39m\u001b[38;5;124m\"\u001b[39m\u001b[38;5;132;01m%s\u001b[39;00m\u001b[38;5;124m\"\u001b[39m\u001b[38;5;124m is \u001b[39m\u001b[38;5;124m'\u001b[39m\n\u001b[0;32m    107\u001b[0m         \u001b[38;5;124m'\u001b[39m\u001b[38;5;124mstrongly discouraged, as it violates Nominatim\u001b[39m\u001b[38;5;130;01m\\'\u001b[39;00m\u001b[38;5;124ms ToS \u001b[39m\u001b[38;5;124m'\u001b[39m\n\u001b[0;32m    108\u001b[0m         \u001b[38;5;124m'\u001b[39m\u001b[38;5;124mhttps://operations.osmfoundation.org/policies/nominatim/ \u001b[39m\u001b[38;5;124m'\u001b[39m\n\u001b[0;32m    109\u001b[0m         \u001b[38;5;124m'\u001b[39m\u001b[38;5;124mand may possibly cause 403 and 429 HTTP errors. \u001b[39m\u001b[38;5;124m'\u001b[39m\n\u001b[0;32m    110\u001b[0m         \u001b[38;5;124m'\u001b[39m\u001b[38;5;124mPlease specify a custom `user_agent` with \u001b[39m\u001b[38;5;124m'\u001b[39m\n\u001b[0;32m    111\u001b[0m         \u001b[38;5;124m'\u001b[39m\u001b[38;5;124m`Nominatim(user_agent=\u001b[39m\u001b[38;5;124m\"\u001b[39m\u001b[38;5;124mmy-application\u001b[39m\u001b[38;5;124m\"\u001b[39m\u001b[38;5;124m)` or by \u001b[39m\u001b[38;5;124m'\u001b[39m\n\u001b[0;32m    112\u001b[0m         \u001b[38;5;124m'\u001b[39m\u001b[38;5;124moverriding the default `user_agent`: \u001b[39m\u001b[38;5;124m'\u001b[39m\n\u001b[0;32m    113\u001b[0m         \u001b[38;5;124m'\u001b[39m\u001b[38;5;124m`geopy.geocoders.options.default_user_agent = \u001b[39m\u001b[38;5;124m\"\u001b[39m\u001b[38;5;124mmy-application\u001b[39m\u001b[38;5;124m\"\u001b[39m\u001b[38;5;124m`.\u001b[39m\u001b[38;5;124m'\u001b[39m\n\u001b[0;32m    114\u001b[0m         \u001b[38;5;241m%\u001b[39m \u001b[38;5;28mself\u001b[39m\u001b[38;5;241m.\u001b[39mheaders[\u001b[38;5;124m'\u001b[39m\u001b[38;5;124mUser-Agent\u001b[39m\u001b[38;5;124m'\u001b[39m]\n\u001b[0;32m    115\u001b[0m     )\n\u001b[0;32m    117\u001b[0m \u001b[38;5;28mself\u001b[39m\u001b[38;5;241m.\u001b[39mapi \u001b[38;5;241m=\u001b[39m \u001b[38;5;124m\"\u001b[39m\u001b[38;5;132;01m%s\u001b[39;00m\u001b[38;5;124m://\u001b[39m\u001b[38;5;132;01m%s\u001b[39;00m\u001b[38;5;132;01m%s\u001b[39;00m\u001b[38;5;124m\"\u001b[39m \u001b[38;5;241m%\u001b[39m (\u001b[38;5;28mself\u001b[39m\u001b[38;5;241m.\u001b[39mscheme, \u001b[38;5;28mself\u001b[39m\u001b[38;5;241m.\u001b[39mdomain, \u001b[38;5;28mself\u001b[39m\u001b[38;5;241m.\u001b[39mgeocode_path)\n\u001b[0;32m    118\u001b[0m \u001b[38;5;28mself\u001b[39m\u001b[38;5;241m.\u001b[39mreverse_api \u001b[38;5;241m=\u001b[39m \u001b[38;5;124m\"\u001b[39m\u001b[38;5;132;01m%s\u001b[39;00m\u001b[38;5;124m://\u001b[39m\u001b[38;5;132;01m%s\u001b[39;00m\u001b[38;5;132;01m%s\u001b[39;00m\u001b[38;5;124m\"\u001b[39m \u001b[38;5;241m%\u001b[39m (\u001b[38;5;28mself\u001b[39m\u001b[38;5;241m.\u001b[39mscheme, \u001b[38;5;28mself\u001b[39m\u001b[38;5;241m.\u001b[39mdomain, \u001b[38;5;28mself\u001b[39m\u001b[38;5;241m.\u001b[39mreverse_path)\n",
      "\u001b[1;31mConfigurationError\u001b[0m: Using Nominatim with default or sample `user_agent` \"geopy/2.3.0\" is strongly discouraged, as it violates Nominatim's ToS https://operations.osmfoundation.org/policies/nominatim/ and may possibly cause 403 and 429 HTTP errors. Please specify a custom `user_agent` with `Nominatim(user_agent=\"my-application\")` or by overriding the default `user_agent`: `geopy.geocoders.options.default_user_agent = \"my-application\"`."
     ]
    }
   ],
   "source": [
    "geocoder = Nominatim()\n",
    "location_dict = {}\n",
    "location = \"\"\n",
    "permalink = \"\"\n",
    "title = \"\""
   ]
  },
  {
   "cell_type": "code",
   "execution_count": 7,
   "metadata": {},
   "outputs": [
    {
     "ename": "NameError",
     "evalue": "name 'geocoder' is not defined",
     "output_type": "error",
     "traceback": [
      "\u001b[1;31m---------------------------------------------------------------------------\u001b[0m",
      "\u001b[1;31mNameError\u001b[0m                                 Traceback (most recent call last)",
      "Cell \u001b[1;32mIn[7], line 11\u001b[0m\n\u001b[0;32m      7\u001b[0m     loc_end \u001b[38;5;241m=\u001b[39m lines_trim\u001b[38;5;241m.\u001b[39mfind(\u001b[38;5;124m'\u001b[39m\u001b[38;5;124m\"\u001b[39m\u001b[38;5;124m'\u001b[39m)\n\u001b[0;32m      8\u001b[0m     location \u001b[38;5;241m=\u001b[39m lines_trim[:loc_end]\n\u001b[1;32m---> 11\u001b[0m location_dict[location] \u001b[38;5;241m=\u001b[39m \u001b[43mgeocoder\u001b[49m\u001b[38;5;241m.\u001b[39mgeocode(location)\n\u001b[0;32m     12\u001b[0m \u001b[38;5;28mprint\u001b[39m(location, \u001b[38;5;124m\"\u001b[39m\u001b[38;5;130;01m\\n\u001b[39;00m\u001b[38;5;124m\"\u001b[39m, location_dict[location])\n",
      "\u001b[1;31mNameError\u001b[0m: name 'geocoder' is not defined"
     ]
    }
   ],
   "source": [
    "\n",
    "for file in g:\n",
    "    with open(file, 'r') as f:\n",
    "        lines = f.read()\n",
    "        if lines.find('location: \"') > 1:\n",
    "            loc_start = lines.find('location: \"') + 11\n",
    "            lines_trim = lines[loc_start:]\n",
    "            loc_end = lines_trim.find('\"')\n",
    "            location = lines_trim[:loc_end]\n",
    "                            \n",
    "           \n",
    "        location_dict[location] = geocoder.geocode(location)\n",
    "        print(location, \"\\n\", location_dict[location])\n"
   ]
  },
  {
   "cell_type": "code",
   "execution_count": 8,
   "metadata": {},
   "outputs": [
    {
     "ename": "NameError",
     "evalue": "name 'location_dict' is not defined",
     "output_type": "error",
     "traceback": [
      "\u001b[1;31m---------------------------------------------------------------------------\u001b[0m",
      "\u001b[1;31mNameError\u001b[0m                                 Traceback (most recent call last)",
      "Cell \u001b[1;32mIn[8], line 2\u001b[0m\n\u001b[0;32m      1\u001b[0m m \u001b[38;5;241m=\u001b[39m getorg\u001b[38;5;241m.\u001b[39morgmap\u001b[38;5;241m.\u001b[39mcreate_map_obj()\n\u001b[1;32m----> 2\u001b[0m getorg\u001b[38;5;241m.\u001b[39morgmap\u001b[38;5;241m.\u001b[39moutput_html_cluster_map(\u001b[43mlocation_dict\u001b[49m, folder_name\u001b[38;5;241m=\u001b[39m\u001b[38;5;124m\"\u001b[39m\u001b[38;5;124m../talkmap\u001b[39m\u001b[38;5;124m\"\u001b[39m, hashed_usernames\u001b[38;5;241m=\u001b[39m\u001b[38;5;28;01mFalse\u001b[39;00m)\n",
      "\u001b[1;31mNameError\u001b[0m: name 'location_dict' is not defined"
     ]
    }
   ],
   "source": [
    "m = getorg.orgmap.create_map_obj()\n",
    "getorg.orgmap.output_html_cluster_map(location_dict, folder_name=\"../talkmap\", hashed_usernames=False)"
   ]
  },
  {
   "cell_type": "code",
   "execution_count": null,
   "metadata": {},
   "outputs": [],
   "source": []
  },
  {
   "cell_type": "code",
   "execution_count": null,
   "metadata": {},
   "outputs": [],
   "source": []
  },
  {
   "cell_type": "code",
   "execution_count": null,
   "metadata": {},
   "outputs": [],
   "source": []
  }
 ],
 "metadata": {
  "anaconda-cloud": {},
  "kernelspec": {
   "display_name": "Python 3 (ipykernel)",
   "language": "python",
   "name": "python3"
  },
  "language_info": {
   "codemirror_mode": {
    "name": "ipython",
    "version": 3
   },
   "file_extension": ".py",
   "mimetype": "text/x-python",
   "name": "python",
   "nbconvert_exporter": "python",
   "pygments_lexer": "ipython3",
   "version": "3.8.3"
  }
 },
 "nbformat": 4,
 "nbformat_minor": 1
}
